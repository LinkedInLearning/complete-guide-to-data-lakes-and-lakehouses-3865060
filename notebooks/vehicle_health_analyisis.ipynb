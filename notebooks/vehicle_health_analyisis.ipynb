{
 "cells": [
  {
   "cell_type": "code",
   "execution_count": null,
   "metadata": {},
   "outputs": [],
   "source": [
    "%pip install dremio-simple-query"
   ]
  },
  {
   "cell_type": "code",
   "execution_count": 2,
   "metadata": {},
   "outputs": [],
   "source": [
    "from dremio_simple_query.connect import get_token\n",
    "\n",
    "## URL to Login Endpoint\n",
    "login_endpoint = \"http://localhost:9047/apiv2/login\"\n",
    "\n",
    "## Payload for Login\n",
    "## Update with your Dremio credentials\n",
    "payload = {\n",
    "    \"userName\": \"username\",\n",
    "    \"password\": \"password\"\n",
    "}\n",
    "\n",
    "## Get token from API\n",
    "token = get_token(uri = login_endpoint, payload=payload)"
   ]
  },
  {
   "cell_type": "code",
   "execution_count": null,
   "metadata": {},
   "outputs": [],
   "source": [
    "from pyarrow import flight\n",
    "\n",
    "# Connect to Dremio using Flight\n",
    "client = flight.FlightClient(f\"grpc+tcp://localhost:32010\")\n",
    "\n",
    "# Authenticate\n",
    "headers = [\n",
    "    (b'authorization', f\"bearer {token}\".encode('utf-8'))\n",
    "]\n",
    "\n",
    "# Query to get all product reviews\n",
    "sql = \"SELECT * FROM catalog.silver.vehicle_health_logs\"\n",
    "\n",
    "# Create a Flight descriptor\n",
    "descriptor = flight.FlightDescriptor.for_command(sql)\n",
    "\n",
    "# Perform the query using call_options to include headers\n",
    "options = flight.FlightCallOptions(headers=headers)\n",
    "flight_info = client.get_flight_info(descriptor, options=options)\n",
    "reader = client.do_get(flight_info.endpoints[0].ticket, options=options)\n",
    "\n",
    "# Convert to Pandas DataFrame\n",
    "vehicle_health_logs = reader.read_pandas()\n",
    "\n",
    "# Display the DataFrame\n",
    "vehicle_health_logs.head()"
   ]
  },
  {
   "cell_type": "code",
   "execution_count": null,
   "metadata": {},
   "outputs": [],
   "source": [
    "import pandas as pd\n",
    "from pandas import json_normalize\n",
    "\n",
    "# Flatten MaintenanceHistory\n",
    "maintenance_records = json_normalize(vehicle_health_logs.explode('MaintenanceHistory')['MaintenanceHistory'])\n",
    "\n",
    "# Analysis: Maintenance Frequency\n",
    "maintenance_frequency = maintenance_records['Type'].value_counts()\n",
    "print(\"Maintenance Frequency:\")\n",
    "print(maintenance_frequency)\n"
   ]
  },
  {
   "cell_type": "code",
   "execution_count": null,
   "metadata": {},
   "outputs": [],
   "source": [
    "# Analysis: Outcome Analysis\n",
    "outcome_analysis = maintenance_records['Outcome'].value_counts()\n",
    "print(\"\\nOutcome Analysis:\")\n",
    "print(outcome_analysis)"
   ]
  },
  {
   "cell_type": "code",
   "execution_count": null,
   "metadata": {},
   "outputs": [],
   "source": [
    "# Flatten Alerts\n",
    "alerts_records = json_normalize(vehicle_health_logs.explode('Alerts')['Alerts'])\n",
    "\n",
    "# Analysis: Alerts Analysis\n",
    "alerts_analysis = alerts_records['Type'].value_counts()\n",
    "print(\"\\nAlerts Analysis:\")\n",
    "print(alerts_analysis)"
   ]
  },
  {
   "cell_type": "code",
   "execution_count": null,
   "metadata": {},
   "outputs": [],
   "source": [
    "import matplotlib.pyplot as plt\n",
    "\n",
    "# Flatten Alerts\n",
    "alerts_records = json_normalize(vehicle_health_logs.explode('Alerts')['Alerts'])\n",
    "\n",
    "# Plot alert types\n",
    "alert_types = alerts_records['Type'].value_counts()\n",
    "alert_types.plot(kind='bar', figsize=(8, 6))\n",
    "plt.title('Alert Types Distribution')\n",
    "plt.xlabel('Alert Type')\n",
    "plt.ylabel('Frequency')\n",
    "plt.show()\n",
    "\n",
    "# Plot alert resolutions\n",
    "alert_resolutions = alerts_records['Resolved'].value_counts()\n",
    "alert_resolutions.plot(kind='bar', figsize=(8, 6))\n",
    "plt.title('Alert Resolutions')\n",
    "plt.xlabel('Resolved')\n",
    "plt.ylabel('Frequency')\n",
    "plt.xticks([0, 1], ['False', 'True'])\n",
    "plt.show()"
   ]
  }
 ],
 "metadata": {
  "kernelspec": {
   "display_name": "Python 3",
   "language": "python",
   "name": "python3"
  },
  "language_info": {
   "codemirror_mode": {
    "name": "ipython",
    "version": 3
   },
   "file_extension": ".py",
   "mimetype": "text/x-python",
   "name": "python",
   "nbconvert_exporter": "python",
   "pygments_lexer": "ipython3",
   "version": "3.10.13"
  }
 },
 "nbformat": 4,
 "nbformat_minor": 2
}
